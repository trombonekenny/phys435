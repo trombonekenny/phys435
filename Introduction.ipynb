{
 "cells": [
  {
   "cell_type": "markdown",
   "metadata": {},
   "source": [
    "# <center>Using Computer Programming<br>to Solve and Study Physics Problems</center>"
   ]
  },
  {
   "cell_type": "markdown",
   "metadata": {
    "collapsed": true
   },
   "source": [
    "## Preamble\n",
    "\n",
    "We (the Physics Department) are using Physics 435 this semester to try out a new teaching tool.  Our goal is to begin to understand how useful computer programming might be as an aid to understanding physics concepts and the behavior of physical systems.\n",
    "<p>\n",
    "<center><font color=red>Because this is an experiment, we need your feedback.  Don't be shy.</font></center>\n",
    "\n",
    "### Our Goals:\n",
    "\n",
    "* Use simple Python to illustrate Physics examples.\n",
    "* Let you adjust the parameters of physical systems to learn about their behavior.\n",
    "* This is *not* a programming course.  You will not be expected to write programs from scratch.  Instead, you'll be given working code that you'll be able to modify in order to study its behavior.\n",
    "\n",
    "### Brief Preliminaries\n",
    "We are using *iPython*, a web environment that allows us to serve normal web content intermixed with Python computer code.  The web page is  divided into cells, each containing either \"Markdown\" or \"Code\" content.  Right now, you are reading a Markdown cell.\n",
    "\n",
    "When you open a document, a private copy is automatically created for you.  You can edit it without interfereing with what others see.  This allows you to modify the Python code (and the Markdown text, if you want), rerun it, and see the new results.  When you leave, your changes will be saved for later.\n",
    "\n",
    "To modify a code cell, click the cursor in it and edit it like any text document.  When you are done editing, you can see the new results by typing \"shift-enter\" or selecting \"Run\" from the Cell menu in the menubar.  Selecting \"Run All\" will execute the entire file."
   ]
  },
  {
   "cell_type": "markdown",
   "metadata": {},
   "source": [
    "> An aside, if you are interested:\n",
    "\n",
    "> To modify a markdown cell, you must double-click in it.  Markdown cells have special formatting codes, which we won't discuss in detail.  (To see an example, double-click on this cell or the title cell.)  Our focus will be on the Python code.  \n",
    "\n",
    "> Text cells are formatted using *Markdown*.  See [here](http://nestacms.com/docs/creating-content/markdown-cheat-sheet) and [here](http://daringfireball.net/projects/markdown/syntax).  One can also write vanilla html.\n",
    "\n",
    "> Courtesy of <a href=\"https://www.mathjax.org\">MathJax</a>, you can include mathematical expressions (using LatTeX syntax) both inline: $e^{i\\pi} + 1 = 0$ and displayed: $$e^x=\\sum_{n=0}^\\infty \\frac{1}{n!}x^n$$"
   ]
  },
  {
   "cell_type": "markdown",
   "metadata": {},
   "source": [
    "<hr style=\"height:3px\">\n",
    "## Python\n",
    "OK, let's talk about Python.  It is a very versatile language, supporting everything from simple, calculator-like interactions to sophisticated object oriented programming.  \n",
    "\n",
    "This introduction describes most of the Python language that we'll use.  It is important to keep in mind that, because this is not intended to be a programming course, you are not expected to study it in detail.  The physics exercises and examples will already contain  functional code - you won't be expected to write programs from scratch.  Our plan is that you will be able to read and understand what the the code is doing and, by modifying the code and observing how the results vary, gain some intuition about the behavior of the physical systems that are being described.\n",
    "\n",
    "Python comes preloaded on many computers (those running Linux and Mac OSX, but not Windows).  You could run the Python examples on your computer, but you'd have to install some add-on numerical and graphics libraries, a complication that we want to avoid.  Hence this iPython environment, which you can use with any web browser.\n",
    "\n",
    "Let's look at a simple example.  Assign values to `x` and `y`, add them, and display the result (remember to type \"shift-enter\" to execute the code):"
   ]
  },
  {
   "cell_type": "code",
   "execution_count": 3,
   "metadata": {
    "collapsed": false
   },
   "outputs": [
    {
     "name": "stdout",
     "output_type": "stream",
     "text": [
      "x = 1\n",
      "y =   3\n",
      "x+y = 4\n"
     ]
    }
   ],
   "source": [
    "# Python code.  Everything on a line after a \"#\" is a comment\n",
    "x = 1  # This is a comment\n",
    "y = 3\n",
    "print (\"x =\", x)\n",
    "print ('y =  ', y)   # You can use single or double quotes.\n",
    "print (\"x+y =\", x+y)"
   ]
  },
  {
   "cell_type": "markdown",
   "metadata": {},
   "source": [
    "Edit the code and see the changes.  For example, you can change `+` to `-`.  Or, you could introduce a new variable and manipulate it.\n",
    "\n",
    "Some comments:\n",
    "* Spaces are not important in Python code.  Use them to make it more legible.  Text strings (in single or double quotes) *do* respect your use of spaces.  You could use spaces to align the three lines of displayed results.\n",
    "* `print` is a function.  All function parameters must be enclosed in parentheses and separated by commas.\n",
    "* You can often specify a function parameter to be a simple calculation.  It is not necessary to say `z = x+y` on a separate line, followed by `print(z)`.\n",
    "* If you want the results to be understandable (*e.g.*, by displaying \"x+y = \"), you must specify that text explicitly in the parameter list.  If you change  `+` to `-` in the code, you'll have to change the text also.\n",
    "* Colored text helps you identify the parts of the code.  Text is red, variables are black, functions are green, operators are purple.  This helps locate bugs.  To see how it works, remove one `\"` from the code.  Also, putting the cursor next to a parenthesis highlights the matching one."
   ]
  },
  {
   "cell_type": "markdown",
   "metadata": {},
   "source": [
    "## More Complex Numerical calculations\n",
    "\n",
    "Native Python can do most algebraic manipulations.  To use more complex manipulations (*e.g.*, trigonometric or vector functions, we must &ldquo;import&rdquo; a function library (`numpy`) that implements them.  See [this](http://docs.scipy.org/doc/numpy/index.html) and [this](http://docs.scipy.org/doc/numpy/reference/index.html).  The second link contains a description of functions defined by `numpy`.  See, in particular, &ldquo;Mathematical functions&rdquo; and &ldquo;Linear algebra&rdquo;.\n",
    "\n",
    "This example uses the &ldquo;sine&rdquo; function.  `np` in the `import` statement lets us use any `nympy` function by typing &ldquo;`np.function`&rdquo;."
   ]
  },
  {
   "cell_type": "code",
   "execution_count": 4,
   "metadata": {
    "collapsed": false
   },
   "outputs": [
    {
     "name": "stdout",
     "output_type": "stream",
     "text": [
      "sin(pi)   = 1.22464679915e-16  <-- not exactly zero.\n",
      "sin(pi/3) = 0.866025403784\n",
      "sin(pi/2) = 1.0\n"
     ]
    }
   ],
   "source": [
    "import numpy as np   # Give numpy a short name, np, for code legibility.\n",
    "\n",
    "x = np.sin(np.pi)    # numpy knows about pi (the number).\n",
    "y = np.sin(np.pi/3)\n",
    "\n",
    "print(\"sin(pi)   =\", x, \" <-- not exactly zero.\")\n",
    "print(\"sin(pi/3) =\", y)\n",
    "print(\"sin(pi/2) =\", np.sin(np.pi/2))"
   ]
  },
  {
   "cell_type": "markdown",
   "metadata": {},
   "source": [
    "Note that many numerical calculations are not exact.  The typical accuracy is about $10^{-16}$.  Many numerical functions  give you an estimate of the accuracy of their results.  We'll encounter some of them later.\n",
    "## Formatting output  for legibility\n",
    "By default, Python will print out a lot of digits that we don't usually care about.  We can suppress them by formatting the output:"
   ]
  },
  {
   "cell_type": "code",
   "execution_count": 5,
   "metadata": {
    "collapsed": false
   },
   "outputs": [
    {
     "name": "stdout",
     "output_type": "stream",
     "text": [
      "sin(pi) =  0.000\n",
      "sin(pi) = 0.000\n",
      "sin(pi) = 1.225e-16\n",
      "sin(pi) =    1.225e-16\n"
     ]
    }
   ],
   "source": [
    "# One doesn't need to import numpy in every cell.  \n",
    "# One import is suficient for your session. \n",
    "# I am doing it again in case you haven't yet run the previous cell.\n",
    "import numpy as np \n",
    "\n",
    "x = np.sin(np.pi)\n",
    "\n",
    "# Display the result several ways, using format control.\n",
    "print(\"sin(pi) =\", \"{:6.3f}\".format(x))\n",
    "print(\"sin(pi) =\", \"{:2.3f}\".format(x))\n",
    "print(\"sin(pi) =\", \"{:9.3e}\".format(x))\n",
    "print(\"sin(pi) =\", \"{:12.3e}\".format(x))"
   ]
  },
  {
   "cell_type": "markdown",
   "metadata": {},
   "source": [
    "Format directives can be very obscure.  If you're masochistic, see [this](https://docs.python.org/3.1/library/string.html#format-examples) (section 7.1.3.2).\n",
    "For our purposes, the examples above will suffice:\n",
    "* Formatting directives look a lot like text (inside the quotes).  \n",
    "* **Fixed point:** &ldquo;`{:n.mf}`&rdquo;`.format(x)`.  This displays `n` total characters of `x`, of which `m` are digits to the right of the decimal point.  At most one leading zero (on the left) is printed – extra characters are printed as spaces.\n",
    "* **Floating point** (scientific): &ldquo;`{:n.me}`&rdquo;`.format(x)`.  This displays `n` total characters of `x`, of which `m` are to the right of the decimal point.  The character count includes four for the exponent.\n",
    "* If `n` is too small, it is automatically increased to the minimum needed for display."
   ]
  },
  {
   "cell_type": "code",
   "execution_count": 6,
   "metadata": {
    "collapsed": false
   },
   "outputs": [
    {
     "name": "stdout",
     "output_type": "stream",
     "text": [
      "x = 1.63312393532e+16    Do you understand why Python gives this result?\n",
      "log(e) = 1.0\n",
      "log10(e) = 0.434294481903\n",
      "10**(log10(e)) = 2.71828182846\n"
     ]
    }
   ],
   "source": [
    "# More examples:\n",
    "x = np.tan(np.pi/2) # Infinity ?\n",
    "print(\"x =\",x,\"   Do you understand why Python gives this result?\")\n",
    "\n",
    "x = np.log(np.e)    # The default log function is base e.\n",
    "print(\"log(e) =\",x)\n",
    "x = np.log10(np.e)  # Base 10.\n",
    "print(\"log10(e) =\",x)\n",
    "\n",
    "x = 10**x                   # See the \"An important programming concept\" \n",
    "print(\"10**(log10(e)) =\",x) # discussion below."
   ]
  },
  {
   "cell_type": "markdown",
   "metadata": {},
   "source": [
    "## <font color=red>An important programming concept:</font>  \n",
    "In computer code, the \"=\" sign does not denote equality.  We don't really mean that $10^x$ equals $x$ (which has no real solution).  It means, &ldquo;Evaluate the expression on the right, and assign the result to the quantity on the left.&rdquo;  It is perfectly legal to use `x` to evaluate an expression, then to replace the value of `x` with the result.  This is a very common practice, especially when iterating (see below)."
   ]
  },
  {
   "cell_type": "markdown",
   "metadata": {},
   "source": [
    "## Arrays:\n",
    "\n",
    "A <b>1-dimensional array</b> (or vector) is just a list.  In general, a list can contain any quantities (text, numbers, other lists, *etc*).  We are interested in numerical arrays.  The electric field vector can be represented as a list with three numerical elements.\n",
    "\n",
    "An array (list) is specified by square brackets.  The array elements are separated by commas.\n",
    "\n",
    "Indexing (subscripting) array elements begins with zero.<br>\n",
    "For example, if `E = [1.5, 2.5, 3.5]`, then `E[0] = 1.5`, `E[1] = 2.5`, and `E[2] = 3.5`.  There is no `E[3]`.  See [this](http://effbot.org/zone/python-list.htm) for more details about accessing list elements.\n",
    "\n",
    "We will be performing numerical (linear algebra) functions on vectors and matrices.  These functions are provided by `linalg`, which is contained in `numpy`. [Here](http://docs.scipy.org/doc/numpy/reference/routines.linalg.html) is a list of `linalg` functions."
   ]
  },
  {
   "cell_type": "code",
   "execution_count": 7,
   "metadata": {
    "collapsed": false
   },
   "outputs": [
    {
     "name": "stdout",
     "output_type": "stream",
     "text": [
      "Something = ['a', 4.5, [], 0.000123]\n",
      "E.B = 70.26\n",
      "ExB = [-20.2   14.96  -0.04]\n",
      "E.(ExB) = 1.21014309684e-14   <== not exactly zero!\n",
      "|E| = 10.0310 = 10.0310\n"
     ]
    }
   ],
   "source": [
    "import numpy as np\n",
    "import numpy.linalg as la      # Giving linalg a short name simplifies\n",
    "                               # acess to its functions.\n",
    "    \n",
    "x = 1.23e-4\n",
    "Empty = []                     # An empty list.\n",
    "Something = [\"a\",4.5,Empty, x] # List elements can be differnt types of data.\n",
    "print(\"Something =\", Something)\n",
    "\n",
    "# We will almost always be using numerical vectors.\n",
    "Ex = 2.5\n",
    "Ey = 3.4\n",
    "Ez = 9.1\n",
    "E = [Ex, Ey, Ez]            # A numerical 3-vector.\n",
    "B = [3.1,4.2,5.3]           # Another 3-vector.\n",
    "EdotB   = np.dot(E,B)       # The result is a number.\n",
    "ExB     = np.cross(E,B)     # The result is a vector.\n",
    "EdotExB = np.dot(E,ExB)     # This should be zero.\n",
    "NormE1  = np.linalg.norm(E) # Calculate the norm (length) of E.\n",
    "NormE2  = la.norm(E)        # Simpler, using the second import.\n",
    "\n",
    "print(\"E.B =\",EdotB)\n",
    "print(\"ExB =\",ExB)\n",
    "print(\"E.(ExB) =\", EdotExB,\"  <== not exactly zero!\")\n",
    "print(\"|E| =\", \"{:6.4f} = {:6.4f}\".format(NormE1,NormE2))\n"
   ]
  },
  {
   "cell_type": "markdown",
   "metadata": {},
   "source": [
    "### 2-Dimensional arrays (matrices)\n",
    "\n",
    "We may not need this until next semester.<br>\n",
    "A 2-D array is just a list of lists.  We will almost always be dealing with 3&times;3 matrices (for rotations) or 4&times;4 matrices (for Lorentz transformations).\n",
    "\n",
    "Note that a Python statement can be put on multiple lines for legibility."
   ]
  },
  {
   "cell_type": "code",
   "execution_count": 8,
   "metadata": {
    "collapsed": false
   },
   "outputs": [
    {
     "name": "stdout",
     "output_type": "stream",
     "text": [
      "Rotz:\n",
      " Row 0: [0.70710678118654757, 0.70710678118654746, 0] \n",
      " Row 1: [-0.70710678118654746, 0.70710678118654757, 0] \n",
      " Row 2: [0, 0, 1]\n",
      "The [0,1] element: 0.707106781187\n",
      "The [1,0] element: -0.707106781187\n",
      "\n",
      "theta = 0.25 pi = 45.0 degrees\n",
      "        E: [1, 1, 9.1]\n",
      "Rotated E: [1.414, 1.110e-16, 9.100]\n"
     ]
    }
   ],
   "source": [
    "import numpy as np\n",
    "import numpy.linalg as la\n",
    "\n",
    "theta = np.pi/4      # 45 degrees.\n",
    "\n",
    "# Here is the matrix for rotation about the z-axis.\n",
    "# This works, because the elements of a list can themselves be lists.\n",
    "Rotz = [[ np.cos(theta),np.sin(theta),0],  # First row.\n",
    "        [-np.sin(theta),np.cos(theta),0],  # Second row.\n",
    "        [0,0,1]]                           # Third row.\n",
    "\n",
    "print(\"Rotz:\\n\",\n",
    "      \"Row 0:\",Rotz[0],\"\\n\",   # \"\\n\" puts any following output on a new line.\n",
    "      \"Row 1:\",Rotz[1],\"\\n\",\n",
    "      \"Row 2:\",Rotz[2])\n",
    "print(\"The [0,1] element:\",Rotz[0][1])\n",
    "print(\"The [1,0] element:\",Rotz[1][0])\n",
    "\n",
    "# Rotate the E vector.\n",
    "E = [1, 1, 9.1]\n",
    "print(\"\\ntheta =\",theta/np.pi,\"pi =\", theta*(180/np.pi), \"degrees\")\n",
    "print(\"        E:\",E)\n",
    "Erot = np.dot(Rotz,E)  # Dot product of a matrix and a vector.\n",
    "print(\"Rotated E:\",\"[{:2.3f}, {:6.3e}, {:2.3f}]\".format(Erot[0],Erot[1],Erot[2]))"
   ]
  },
  {
   "cell_type": "markdown",
   "metadata": {},
   "source": [
    "## Iterating\n",
    "\n",
    "You will sometimes want to perform the same operation repeatedly (*i.e.*, iterate it).  Here is one way:\n",
    "\n",
    "<pre>\n",
    "for i in list:\n",
    "    do something       # These statements are iterated\n",
    "    do something else  #   (executed repeatedly).\n",
    "do this only once      # This statement is not iterated.\n",
    "</pre>\n",
    "Python will execute the \"`do something`\" statements, letting `i` be each value in the list, one after the other.  When the list is exhausted, execution proceeds with the next (unindented) statement.\n",
    "\n",
    "<font color = red><b>Important:</b></font>\n",
    "* The `for` command must end with a colon.\n",
    "* The statements to be iterated are indicated by indenting them.\n",
    "* When you are editing code, *iPython* will automatically indent the lines after the `for` statement.<br><font color = red>Do not change the indentation</font> – Python will become confused.  It uses the indentation to know which code is to be iterated.<br>\n",
    "° If you accidentally remove the indentation, you can usually recover by inserting a tab at the beginning of the line, or inserting spaces until the indentations line up.<br>\n",
    "° Another recovery method.  Delete text until the offending line is part of the previous (properly indented) line.  Then, `enter` ought to indent it correctly.\n",
    "* The end of the iteration is signaled by typing code that is not indented.  See the `print` command after the `for` loop in the code below.  You can remove indentation with the delete key."
   ]
  },
  {
   "cell_type": "code",
   "execution_count": 9,
   "metadata": {
    "collapsed": false
   },
   "outputs": [
    {
     "name": "stdout",
     "output_type": "stream",
     "text": [
      "z[0]+z[3]+z[4] = 13\n",
      "1\n",
      "9\n",
      "25\n",
      "49\n",
      "[1, 2, 3, 4]\n"
     ]
    }
   ],
   "source": [
    "z = [1,4,7,3,9]      # Indexing (subscripting) of lists starts at zero:\n",
    "w = [0,3,4]          # z[0] = 1, z[3] = 3, and z[4] = 9.\n",
    "sum = 0              # Initialize the sum.\n",
    "for i in w:          # Python will set i to each element of w in turn.\n",
    "    sum = sum + z[i] # Add z[i] to the sum.\n",
    "\n",
    "# A statement that is not indented is not part of the for loop.\n",
    "print (\"z[0]+z[3]+z[4] =\",sum) \n",
    "\n",
    "y = []               # Tell Python that `y` is a list (not a number)\n",
    "x = 1                \n",
    "# Start with x = 1, and increment it by 2 each iteration.\n",
    "# This is a somewhat cumbersome way to calculate the squares\n",
    "# of 1, 3, 5, and 7.\n",
    "# \"range(1,5)\" is a quick way to create [1,2,3,4] (5 is not included).\n",
    "for i in range(1,5): \n",
    "    y.append(i)      # One can append items to lists.\n",
    "    print(x*x)       # This print is performed once for each i.\n",
    "    x=x+2\n",
    "\n",
    "print(y)             # Show us which values of i were used.  5 was not."
   ]
  },
  {
   "cell_type": "markdown",
   "metadata": {},
   "source": [
    "We could have done this a bit more simply, using `range(1,9,2)`:"
   ]
  },
  {
   "cell_type": "code",
   "execution_count": 10,
   "metadata": {
    "collapsed": false
   },
   "outputs": [
    {
     "name": "stdout",
     "output_type": "stream",
     "text": [
      "1\n",
      "3\n",
      "5\n",
      "7\n"
     ]
    }
   ],
   "source": [
    "for i in range(1,9,2):\n",
    "    print(i)"
   ]
  },
  {
   "cell_type": "markdown",
   "metadata": {},
   "source": [
    "## Defining your own functions\n",
    "You aren't restricted to using functions that have been predefined by Python or `numpy` (or other imported libraries).  You can define your own.  This is very useful in two situations:\n",
    "* You will be performing the same function many times, and you don't want to have to type the same code each time.  That would be very error prone.\n",
    "* Some `numpy` functions want, as one parameter, the name of a function that you have defined.  You'll see an example of this in the \"Numerical integration\" exercise, where the name of the function to be integrated is required.\n",
    "\n",
    "Here's an example of a function that you might want to define.  You might want to convert a vector from Cartesian $(x,y)$ coordinates to polar $(r,\\theta)$."
   ]
  },
  {
   "cell_type": "code",
   "execution_count": 11,
   "metadata": {
    "collapsed": false
   },
   "outputs": [
    {
     "name": "stdout",
     "output_type": "stream",
     "text": [
      "Ec = [3, 4]\n",
      "Ep = [5.000, 0.927]\n",
      "\n",
      "Vc = [5, -6] \n",
      "Vp = [7.810, -0.876]\n"
     ]
    }
   ],
   "source": [
    "import numpy as np\n",
    "import numpy.linalg as la\n",
    "\n",
    "# Define Cartesian to polar conversion, for 2-vectors.\n",
    "def CtoP(Vc):\n",
    "    Vp = []                            # Tell Python that Vp is a vector.\n",
    "    Vp.append(la.norm(Vc))             # Vp[0] is the length of Vc.\n",
    "    Vp.append(np.arctan2(Vc[1],Vc[0])) # Vp[1] is the angle  of Vc.\n",
    "    return Vp\n",
    "\n",
    "Ec = [3,4]\n",
    "Ep = CtoP(Ec)\n",
    "print(\"Ec =\", Ec)\n",
    "print(\"Ep = [{:2.3f}, {:2.3f}]\".format(Ep[0], Ep[1]))\n",
    "\n",
    "# You can reuse CtoP on any 2-D vector, without copying the code.\n",
    "Vc = [5,-6]\n",
    "Vp = CtoP(Vc)\n",
    "print(\"\\nVc =\",Vc,\"\\nVp = [{:2.3f}, {:2.3f}]\".format(Vp[0], Vp[1]))"
   ]
  },
  {
   "cell_type": "markdown",
   "metadata": {},
   "source": [
    "We had to tell Python that `Vp` is a vector.  We did that by initializing it to be an empty list.  If we didn't do that, Python would not know how to implement `Vp.append`, which is only defined for lists.\n",
    "\n",
    "You can use any variable names you want inside the function definition, including the same names as outside.  The \"scope\" of a name used inside a function definition does not extend outside.  That's why I could use the name `Vp` outside the function without worry.\n",
    "\n",
    "This is important, because you have no idea what names are used inside the various library functions (*e.g.*, by the `sin` function)."
   ]
  },
  {
   "cell_type": "code",
   "execution_count": null,
   "metadata": {
    "collapsed": true
   },
   "outputs": [],
   "source": []
  }
 ],
 "metadata": {
  "kernelspec": {
   "display_name": "Python 3",
   "language": "python",
   "name": "python3"
  },
  "language_info": {
   "codemirror_mode": {
    "name": "ipython",
    "version": 3
   },
   "file_extension": ".py",
   "mimetype": "text/x-python",
   "name": "python",
   "nbconvert_exporter": "python",
   "pygments_lexer": "ipython3",
   "version": "3.4.3"
  }
 },
 "nbformat": 4,
 "nbformat_minor": 0
}
